{
 "cells": [
  {
   "cell_type": "markdown",
   "metadata": {},
   "source": [
    "# Real Time Data Analytics - Mini Project (Group 3)"
   ]
  },
  {
   "cell_type": "markdown",
   "metadata": {},
   "source": [
    "-----------\n",
    "## Problem Statement :\n",
    "-----------\n",
    "\n",
    "#####  Sentiment Analysis on Twitter in Real Time. \n",
    "\n",
    "On the real time tweets streams data, apply Sentiment Analysis to get the opinion & trends on different topics in real time. Also find influential people or POI (person of Interest) from the twitter data.\n",
    "\n",
    "Analysis to be done on the Twitter streaming data by taking time interval to be 10 seconds."
   ]
  },
  {
   "cell_type": "markdown",
   "metadata": {},
   "source": [
    "-----------\n",
    "Steps to be followed :\n",
    "-----------\n",
    "1. Find Influential people in twitter:\n",
    " - Hint - For simplicity assume the algorithm to find influential person is directly proportional to followers.\n",
    " - Find top 10 Influential personalities from the twitter across the globe. (In an interval of 10 seconds).\n",
    "2. Get trending Topics in twitter right now:\n",
    " - Find the word from the tweet which is occurring most of the times in the whole tweets corpus.\n",
    " - Top 10 trending topic (In an interval of 10 seconds).\n",
    "3. Sentiment Analysis:\n",
    " - Filter tweets & take tweets which has mention of “iphone”.\n",
    " - Get sentiments about iphone. (ie. In an interval of 10 seconds) - [positive, negative or neutral]"
   ]
  },
  {
   "cell_type": "markdown",
   "metadata": {},
   "source": [
    "----\n",
    "Data Format of Incoming Twitter Feed :\n",
    "----\n",
    "Twitter Fields of json object:\n",
    "\n",
    "Can access from:  https://dev.twitter.com/overview/api/tweets.\n",
    "\n",
    "##### Sample Tweet JSON is as below -\n",
    "\n",
    "{\n",
    "\n",
    "      \"text\": \"RT @PostGradProblem: In preparation for the NFL lockout, I will be spending twice as much time analyzing my fantasy baseball team during ...\",\n",
    "\n",
    "      \"truncated\": true,\n",
    "\n",
    "      \"in_reply_to_user_id\": null,\n",
    "\n",
    "      \"in_reply_to_status_id\": null,\n",
    "\n",
    "      \"favorited\": false,\n",
    "\n",
    "      \"source\": \"<a href=\\\"http://twitter.com/\\\" rel=\\\"nofollow\\\">Twitter for iPhone</a>\",\n",
    "\n",
    "      \"in_reply_to_screen_name\": null,\n",
    "\n",
    "      \"in_reply_to_status_id_str\": null,\n",
    "\n",
    "      \"id_str\": \"54691802283900928\",\n",
    "\n",
    "      \"entities\": {\n",
    "\n",
    "            \"user_mentions\": [\n",
    "\n",
    "                  {\n",
    "\n",
    "                        \"indices\": [\n",
    "\n",
    "                              3,\n",
    "\n",
    "                              19\n",
    "\n",
    "                        ],\n",
    "\n",
    "                        \"screen_name\": \"PostGradProblem\",\n",
    "\n",
    "                        \"id_str\": \"271572434\",\n",
    "\n",
    "                        \"name\": \"PostGradProblems\",\n",
    "\n",
    "                        \"id\": 271572434\n",
    "\n",
    "                  }\n",
    "\n",
    "            ],\n",
    "\n",
    "            \"urls\": [ ],\n",
    "\n",
    "            \"hashtags\": [ ]\n",
    "\n",
    "      },\n",
    "\n",
    "      \"contributors\": null,\n",
    "\n",
    "      \"retweeted\": false,\n",
    "\n",
    "      \"in_reply_to_user_id_str\": null,\n",
    "\n",
    "      \"place\": null,\n",
    "\n",
    "      \"retweet_count\": 4,\n",
    "\n",
    "      \"created_at\": \"Sun Apr 03 23:48:36 +0000 2011\",\n",
    "\n",
    "      \"retweeted_status\": {\n",
    "\n",
    "            \"text\": \"In preparation for the NFL lockout, I will be spending twice as much time analyzing my fantasy baseball team during company time. #PGP\",\n",
    "\n",
    "            \"truncated\": false,\n",
    "\n",
    "            \"in_reply_to_user_id\": null,\n",
    "\n",
    "            \"in_reply_to_status_id\": null,\n",
    "\n",
    "            \"favorited\": false,\n",
    "\n",
    "            \"source\": \"<a href=\\\"http://www.hootsuite.com\\\" rel=\\\"nofollow\\\">HootSuite</a>\",\n",
    "\n",
    "            \"in_reply_to_screen_name\": null,\n",
    "\n",
    "            \"in_reply_to_status_id_str\": null,\n",
    "\n",
    "            \"id_str\": \"54640519019642881\",\n",
    "\n",
    "            \"entities\": {\n",
    "\n",
    "                  \"user_mentions\": [ ],\n",
    "\n",
    "                  \"urls\": [ ],\n",
    "\n",
    "                  \"hashtags\": [\n",
    "\n",
    "                        {\n",
    "\n",
    "                              \"text\": \"PGP\",\n",
    "\n",
    "                              \"indices\": [\n",
    "\n",
    "                                    130,\n",
    "\n",
    "                                    134\n",
    "\n",
    "                              ]\n",
    "\n",
    "                        }\n",
    "\n",
    "                  ]\n",
    "\n",
    "            },\n",
    "\n",
    "            \"contributors\": null,\n",
    "\n",
    "            \"retweeted\": false,\n",
    "\n",
    "            \"in_reply_to_user_id_str\": null,\n",
    "\n",
    "            \"place\": null,\n",
    "\n",
    "            \"retweet_count\": 4,\n",
    "\n",
    "            \"created_at\": \"Sun Apr 03 20:24:49 +0000 2011\",\n",
    "\n",
    "            \"user\": {\n",
    "\n",
    "                  \"notifications\": null,\n",
    "\n",
    "                  \"profile_use_background_image\": true,\n",
    "\n",
    "                  \"statuses_count\": 31,\n",
    "\n",
    "                  \"profile_background_color\": \"C0DEED\",\n",
    "\n",
    "                  \"followers_count\": 3066,\n",
    "\n",
    "                  \"profile_image_url\": \"http://a2.twimg.com/profile_images/1285770264/PGP_normal.jpg\",\n",
    "\n",
    "                  \"listed_count\": 6,\n",
    "\n",
    "                  \"profile_background_image_url\": \"http://a3.twimg.com/a/1301071706/images/themes/theme1/bg.png\",\n",
    "\n",
    "                  \"description\": \"\",\n",
    "\n",
    "                  \"screen_name\": \"PostGradProblem\",\n",
    "\n",
    "                  \"default_profile\": true,\n",
    "\n",
    "                  \"verified\": false,\n",
    "\n",
    "                  \"time_zone\": null,\n",
    "\n",
    "                  \"profile_text_color\": \"333333\",\n",
    "\n",
    "                  \"is_translator\": false,\n",
    "\n",
    "                  \"profile_sidebar_fill_color\": \"DDEEF6\",\n",
    "\n",
    "                  \"location\": \"\",\n",
    "\n",
    "                  \"id_str\": \"271572434\",\n",
    "\n",
    "                  \"default_profile_image\": false,\n",
    "\n",
    "                  \"profile_background_tile\": false,\n",
    "\n",
    "                  \"lang\": \"en\",\n",
    "\n",
    "                  \"friends_count\": 21,\n",
    "\n",
    "                  \"protected\": false,\n",
    "\n",
    "                  \"favourites_count\": 0,\n",
    "\n",
    "                  \"created_at\": \"Thu Mar 24 19:45:44 +0000 2011\",\n",
    "\n",
    "                  \"profile_link_color\": \"0084B4\",\n",
    "\n",
    "                  \"name\": \"PostGradProblems\",\n",
    "\n",
    "                  \"show_all_inline_media\": false,\n",
    "\n",
    "                  \"follow_request_sent\": null,\n",
    "\n",
    "                  \"geo_enabled\": false,\n",
    "\n",
    "                  \"profile_sidebar_border_color\": \"C0DEED\",\n",
    "\n",
    "                  \"url\": null,\n",
    "\n",
    "                  \"id\": 271572434,\n",
    "\n",
    "                  \"contributors_enabled\": false,\n",
    "\n",
    "                  \"following\": null,\n",
    "\n",
    "                  \"utc_offset\": null\n",
    "\n",
    "            },\n",
    "\n",
    "            \"id\": 54640519019642880,\n",
    "\n",
    "            \"coordinates\": null,\n",
    "\n",
    "            \"geo\": null\n",
    "\n",
    "      },\n",
    "\n",
    "      \"user\": {\n",
    "\n",
    "            \"notifications\": null,\n",
    "\n",
    "            \"profile_use_background_image\": true,\n",
    "\n",
    "            \"statuses_count\": 351,\n",
    "\n",
    "            \"profile_background_color\": \"C0DEED\",\n",
    "\n",
    "            \"followers_count\": 48,\n",
    "\n",
    "            \"profile_image_url\": \"http://a1.twimg.com/profile_images/455128973/gCsVUnofNqqyd6tdOGevROvko1_500_normal.jpg\",\n",
    "\n",
    "            \"listed_count\": 0,\n",
    "\n",
    "            \"profile_background_image_url\": \"http://a3.twimg.com/a/1300479984/images/themes/theme1/bg.png\",\n",
    "\n",
    "            \"description\": \"watcha doin in my waters?\",\n",
    "\n",
    "            \"screen_name\": \"OldGREG85\",\n",
    "\n",
    "            \"default_profile\": true,\n",
    "\n",
    "            \"verified\": false,\n",
    "\n",
    "            \"time_zone\": \"Hawaii\",\n",
    "\n",
    "            \"profile_text_color\": \"333333\",\n",
    "\n",
    "            \"is_translator\": false,\n",
    "\n",
    "            \"profile_sidebar_fill_color\": \"DDEEF6\",\n",
    "\n",
    "            \"location\": \"Texas\",\n",
    "\n",
    "            \"id_str\": \"80177619\",\n",
    "\n",
    "            \"default_profile_image\": false,\n",
    "\n",
    "            \"profile_background_tile\": false,\n",
    "\n",
    "            \"lang\": \"en\",\n",
    "\n",
    "            \"friends_count\": 81,\n",
    "\n",
    "            \"protected\": false,\n",
    "\n",
    "            \"favourites_count\": 0,\n",
    "\n",
    "            \"created_at\": \"Tue Oct 06 01:13:17 +0000 2009\",\n",
    "\n",
    "            \"profile_link_color\": \"0084B4\",\n",
    "\n",
    "            \"name\": \"GG\",\n",
    "\n",
    "            \"show_all_inline_media\": false,\n",
    "\n",
    "            \"follow_request_sent\": null,\n",
    "\n",
    "            \"geo_enabled\": false,\n",
    "\n",
    "            \"profile_sidebar_border_color\": \"C0DEED\",\n",
    "\n",
    "            \"url\": null,\n",
    "\n",
    "            \"id\": 80177619,\n",
    "\n",
    "            \"contributors_enabled\": false,\n",
    "\n",
    "            \"following\": null,\n",
    "\n",
    "            \"utc_offset\": -36000\n",
    "\n",
    "      },\n",
    "\n",
    "      \"id\": 54691802283900930,\n",
    "\n",
    "      \"coordinates\": null,\n",
    "\n",
    "      \"geo\": null\n",
    "\n",
    "}"
   ]
  },
  {
   "cell_type": "markdown",
   "metadata": {},
   "source": [
    "## Importing required libraries"
   ]
  },
  {
   "cell_type": "code",
   "execution_count": 1,
   "metadata": {},
   "outputs": [],
   "source": [
    "%matplotlib inline\n",
    "import sys\n",
    "import matplotlib.pyplot as plt\n",
    "from matplotlib import cm\n",
    "from pyspark import SparkContext\n",
    "from pyspark.streaming import StreamingContext\n",
    "from textblob import TextBlob\n",
    "from tweepy.streaming import StreamListener\n",
    "from tweepy import OAuthHandler\n",
    "from tweepy import Stream\n",
    "from tweepy import API\n",
    "from kafka import SimpleProducer, KafkaClient\n",
    "import time\n",
    "import logging\n",
    "import time\n",
    "import csv\n",
    "import json\n",
    "import tweepy\n",
    "#import twitter_config\n",
    "from tweepy import OAuthHandler\n",
    "from tweepy import Stream\n",
    "from tweepy.streaming import StreamListener\n",
    "from datetime import datetime\n",
    "from dateutil import parser\n",
    "from pprint import pprint\n",
    "# enable logging\n",
    "logging.basicConfig(level=logging.INFO, \n",
    "                    format='%(asctime)s %(levelname)s %(module)s - %(funcName)s: %(message)s', \n",
    "                    datefmt=\"%Y-%m-%d %H:%M:%S\")\n",
    "logger = logging.getLogger()\n",
    "logger.setLevel(logging.INFO)\n",
    "  \n"
   ]
  },
  {
   "cell_type": "code",
   "execution_count": 2,
   "metadata": {
    "collapsed": true
   },
   "outputs": [],
   "source": [
    "# parse data\n",
    "def parse_tweet(data):\n",
    "\n",
    "    # load JSON item into a dict\n",
    "    tweet = json.loads(data)\n",
    "    \n",
    "\n",
    "    # check if tweet is valid\n",
    "    if 'user' in tweet.keys():\n",
    "\n",
    "        # parse date    \n",
    "        tweet['CREATED_AT'] = parser.parse(tweet['created_at'])\n",
    "\n",
    "        # classify tweet type based on metadata\n",
    "        if 'retweeted_status' in tweet:\n",
    "            tweet['TWEET_TYPE'] = 'retweet'\n",
    "\n",
    "        elif len(tweet['entities']['user_mentions']) > 0:\n",
    "            tweet['TWEET_TYPE'] = 'mention'\n",
    "\n",
    "        else:\n",
    "            tweet['TWEET_TYPE'] = 'tweet'\n",
    "\n",
    "        #pprint(tweet)\n",
    "        return tweet\n",
    "\n",
    "    else:\n",
    "        logger.warning(\"Imcomplete tweet: %s\", tweet)\n",
    "\n",
    "\n",
    "# extract relevant data to write to CSV\n",
    "def extract_content(tweet):\n",
    "\n",
    "    content = [tweet['user']['screen_name'], \n",
    "               tweet['CREATED_AT'].strftime('%Y-%m-%d %H:%M:%S'),\n",
    "               tweet['TWEET_TYPE'],\n",
    "               tweet['user']['followers_count'],               \n",
    "               tweet['text'].encode('unicode_escape')]\n",
    "\n",
    "    return content"
   ]
  },
  {
   "cell_type": "code",
   "execution_count": null,
   "metadata": {},
   "outputs": [],
   "source": [
    "sc.stop()"
   ]
  },
  {
   "cell_type": "code",
   "execution_count": 3,
   "metadata": {},
   "outputs": [
    {
     "name": "stderr",
     "output_type": "stream",
     "text": [
      "2018-04-23 18:16:27 INFO java_gateway - run: Callback Server Starting\n",
      "2018-04-23 18:16:27 INFO java_gateway - run: Socket listening on ('127.0.0.1', 44930)\n"
     ]
    }
   ],
   "source": [
    "# Initialize a SparkContext with a name\n",
    "sc = SparkContext(appName=\"Spark Streaming mini project\")\n",
    "\n",
    "# Create a StreamingContext with a batch interval of 10 seconds\n",
    "stc = StreamingContext(sc, 10)"
   ]
  },
  {
   "cell_type": "code",
   "execution_count": 4,
   "metadata": {
    "collapsed": true
   },
   "outputs": [],
   "source": [
    "# Checkpointing feature\n",
    "stc.checkpoint(\"checkpoint10\")"
   ]
  },
  {
   "cell_type": "markdown",
   "metadata": {},
   "source": [
    "## Reading data from real time Twitter stream"
   ]
  },
  {
   "cell_type": "code",
   "execution_count": 5,
   "metadata": {
    "collapsed": true
   },
   "outputs": [],
   "source": [
    "ACCESS_TOKEN = \"929614339148881920-UbNXHep9n0thWJvc5uCQ9O26tRJ3tPy\"\n",
    "ACCESS_TOKEN_SECRET =  \"9CoIwwlDFzHhuGdfSm4lwUsttkDOKljc6NxMESBjsd3IO\"\n",
    "CONSUMER_KEY =  \"vkjuBraomckC8fOr0WssHa9FN\"\n",
    "CONSUMER_SECRET =  \"rGkA4V5m0UuHemzME6NATbm79v52qIaAD85nuCjXLIdQ6qXvKS\"\n",
    "KAFKA_ENDPOINT = \"ip-20-0-32-4.ap-south-1.compute.internal:9092\"\n",
    "KAFKA_TOPIC = \"Group3_MX\"\n",
    "TIME_LIMIT = 10\n",
    "ITERATIONS=10\n",
    "#Let's get the tweets for 300 seconds and then stop the listener"
   ]
  },
  {
   "cell_type": "code",
   "execution_count": 6,
   "metadata": {
    "collapsed": true
   },
   "outputs": [],
   "source": [
    "class StdOutListener(StreamListener):\n",
    "\tdef __init__(self, time_limit=TIME_LIMIT):\n",
    "\t\tself.start_time = time.time()\n",
    "\t\tself.limit = time_limit\n",
    "\t\tself.iterations = ITERATIONS\n",
    "\t\tself.index = 0\n",
    "\t\tsuper(StdOutListener, self).__init__()\n",
    "\tdef on_data(self, data):\n",
    "\t\tif (time.time() - self.start_time) < self.limit:\n",
    "            #msg = json.loads(data)\n",
    "\t\t\ttweet = parse_tweet(data)\n",
    "\t\t\tself.index += 1            \n",
    "\t\t\tcontent = extract_content(tweet)\n",
    "            #Save the tweets that are coming in a csv file to be read later\n",
    "\t\t\twith open('tweets30.csv', 'a') as f: \n",
    "\t\t\t\twriter = csv.writer(f, quotechar = '\"')\n",
    "\t\t\t\twriter.writerow(content)\n",
    "\t\t\tprint (self.index)\n",
    "\t\t\tif self.index == self.iterations:\n",
    "\t\t\t\treturn False\n",
    "\t\t\telse:\n",
    "\t\t\t\treturn True\n",
    "\t\texit(0)\n",
    "\tdef on_error(self, status):\n",
    "\t\tprint (status)"
   ]
  },
  {
   "cell_type": "code",
   "execution_count": 7,
   "metadata": {},
   "outputs": [
    {
     "name": "stderr",
     "output_type": "stream",
     "text": [
      "2018-04-23 18:17:07 INFO conn - connect: <BrokerConnection node_id=0 host=ip-20-0-32-4.ap-south-1.compute.internal:9092 <connecting> [IPv4 ('20.0.32.4', 9092)]>: connecting to ip-20-0-32-4.ap-south-1.compute.internal:9092 [('20.0.32.4', 9092) IPv4]\n",
      "2018-04-23 18:17:07 INFO conn - connect: <BrokerConnection node_id=0 host=ip-20-0-32-4.ap-south-1.compute.internal:9092 <connecting> [IPv4 ('20.0.32.4', 9092)]>: Connection complete.\n"
     ]
    },
    {
     "name": "stdout",
     "output_type": "stream",
     "text": [
      "1\n",
      "2\n",
      "3\n",
      "4\n",
      "5\n",
      "6\n",
      "7\n",
      "8\n",
      "9\n",
      "10\n"
     ]
    }
   ],
   "source": [
    "kafka = KafkaClient(KAFKA_ENDPOINT)\n",
    "producer = SimpleProducer(kafka)\n",
    "l = StdOutListener()\n",
    "auth = OAuthHandler(CONSUMER_KEY, CONSUMER_SECRET)\n",
    "auth.set_access_token(ACCESS_TOKEN, ACCESS_TOKEN_SECRET)\n",
    "stream = Stream(auth, l)\n",
    "stream.filter(track = ['trump'], languages = ['en'])"
   ]
  },
  {
   "cell_type": "code",
   "execution_count": 25,
   "metadata": {},
   "outputs": [
    {
     "name": "stderr",
     "output_type": "stream",
     "text": [
      "2018-04-23 18:19:16 INFO binder - build_parameters: PARAMS: {'id': b'NVPatriot1'}\n"
     ]
    },
    {
     "name": "stdout",
     "output_type": "stream",
     "text": [
      "NVPatriot1\n",
      "14568\n"
     ]
    }
   ],
   "source": [
    "api = API(auth)\n",
    "user = api.get_user('NVPatriot1')\n",
    "print (user.screen_name)\n",
    "print (user.followers_count)"
   ]
  },
  {
   "cell_type": "code",
   "execution_count": 26,
   "metadata": {},
   "outputs": [
    {
     "name": "stderr",
     "output_type": "stream",
     "text": [
      "2018-04-23 18:19:31 INFO binder - build_parameters: PARAMS: {'id': b'sheltielove'}\n",
      "2018-04-23 18:19:32 INFO binder - build_parameters: PARAMS: {'user_id': b'32912355'}\n"
     ]
    },
    {
     "name": "stdout",
     "output_type": "stream",
     "text": [
      "sheltielove\n",
      "607\n",
      "TIME\n",
      "funder\n",
      "LincolnsBible\n",
      "CitJourno\n",
      "SarahforWI\n",
      "omarvaid\n",
      "nytmike\n",
      "joshscampbell\n",
      "joesvillage\n",
      "PaulaChertok\n",
      "DisavowTrump20\n",
      "sallykohn\n",
      "lauriebrenner\n",
      "MSchwartz3\n",
      "tburages\n",
      "kylegriffin1\n",
      "mattlpost\n",
      "cityscottp\n",
      "MichaelAvenatti\n",
      "gregolear\n"
     ]
    }
   ],
   "source": [
    "# Get the User object for twitter...\n",
    "user = api.get_user('sheltielove')\n",
    "print (user.screen_name)\n",
    "print (user.followers_count)\n",
    "for friend in user.friends():\n",
    "   print (friend.screen_name)"
   ]
  },
  {
   "cell_type": "markdown",
   "metadata": {},
   "source": [
    "## Find top 10 Influential people in twitter"
   ]
  },
  {
   "cell_type": "markdown",
   "metadata": {},
   "source": [
    "## Create Spark Streaming Context "
   ]
  },
  {
   "cell_type": "code",
   "execution_count": 19,
   "metadata": {},
   "outputs": [],
   "source": [
    "from pyspark import SparkContext,SQLContext,SparkConf,StorageLevel\n",
    "from pyspark.sql.types import StructType, StructField, IntegerType,StringType,TimestampType\n",
    "sql = SQLContext(sc)\n",
    "schema = StructType([\n",
    "    StructField(\"user_screen_name\", StringType(), True),\n",
    "    StructField(\"created_at\", TimestampType(), True),\n",
    "    StructField(\"tweet_type\", StringType(), True),\n",
    "    StructField(\"follower_count\", IntegerType(), True),\n",
    "    StructField(\"tweet_text\", StringType(), True)])\n",
    "\n",
    "#Read the csv as dataframe\n",
    "df = sql.read.format('com.databricks.spark.csv').options(header='false', inferschema='true').load('tweets30.csv')"
   ]
  },
  {
   "cell_type": "code",
   "execution_count": 20,
   "metadata": {},
   "outputs": [
    {
     "name": "stdout",
     "output_type": "stream",
     "text": [
      "root\n",
      " |-- _c0: string (nullable = true)\n",
      " |-- _c1: timestamp (nullable = true)\n",
      " |-- _c2: string (nullable = true)\n",
      " |-- _c3: integer (nullable = true)\n",
      " |-- _c4: string (nullable = true)\n",
      "\n"
     ]
    }
   ],
   "source": [
    "#Printing the schema of the dataframe\n",
    "df.printSchema()"
   ]
  },
  {
   "cell_type": "code",
   "execution_count": 21,
   "metadata": {},
   "outputs": [
    {
     "name": "stdout",
     "output_type": "stream",
     "text": [
      "+----------------+-------------------+----------+---------------+--------------------+\n",
      "|user_screen_name|         created_at|tweet_type|followers_count|          tweet_text|\n",
      "+----------------+-------------------+----------+---------------+--------------------+\n",
      "|       jimtom455|2018-04-23 18:17:08|   retweet|            578|\"b\"\"RT @Pappiness...|\n",
      "|      NVPatriot1|2018-04-23 18:17:08|   retweet|          14568|\"b\"\"RT @TheRealHu...|\n",
      "|        Tex2Blue|2018-04-23 18:17:08|   retweet|            376|b'RT @anne_deactr...|\n",
      "|        keishi59|2018-04-23 18:17:08|   retweet|            576|\"b'RT @EdKrassen:...|\n",
      "|      EttaDevine|2018-04-23 18:17:08|   retweet|           1995|b'RT @samswey: Th...|\n",
      "|     sheltielove|2018-04-23 18:17:08|   retweet|            607|\"b\"\"RT @MichaelAv...|\n",
      "|  notcomplicit23|2018-04-23 18:17:08|   retweet|            275|b'RT @FMoniteau: ...|\n",
      "|  michaelwweston|2018-04-23 18:17:08|   retweet|          12003|\"b\"\"RT @JackPosob...|\n",
      "|     sedonanhill|2018-04-23 18:17:08|   retweet|            574|\"b\"\"RT @DuncanLin...|\n",
      "|          TazKHC|2018-04-23 18:17:08|   retweet|            991|b'RT @MrFilmkriti...|\n",
      "+----------------+-------------------+----------+---------------+--------------------+\n",
      "\n"
     ]
    }
   ],
   "source": [
    "df = df.selectExpr(\"_c0 as user_screen_name\", \"_c1 as created_at\",\"_c2 as tweet_type\",\"_c3 as followers_count\",\"_c4 as tweet_text\")\n",
    "df.show()"
   ]
  },
  {
   "cell_type": "code",
   "execution_count": 22,
   "metadata": {},
   "outputs": [
    {
     "name": "stdout",
     "output_type": "stream",
     "text": [
      "root\n",
      " |-- user_screen_name: string (nullable = true)\n",
      " |-- created_at: timestamp (nullable = true)\n",
      " |-- tweet_type: string (nullable = true)\n",
      " |-- followers_count: integer (nullable = true)\n",
      " |-- tweet_text: string (nullable = true)\n",
      "\n"
     ]
    }
   ],
   "source": [
    "#Printing the schema of the dataframe\n",
    "df.printSchema()"
   ]
  },
  {
   "cell_type": "code",
   "execution_count": 23,
   "metadata": {},
   "outputs": [
    {
     "name": "stdout",
     "output_type": "stream",
     "text": [
      "+----------------+-------------------+----------+---------------+--------------------+\n",
      "|user_screen_name|         created_at|tweet_type|followers_count|          tweet_text|\n",
      "+----------------+-------------------+----------+---------------+--------------------+\n",
      "|      NVPatriot1|2018-04-23 18:17:08|   retweet|          14568|\"b\"\"RT @TheRealHu...|\n",
      "|  michaelwweston|2018-04-23 18:17:08|   retweet|          12003|\"b\"\"RT @JackPosob...|\n",
      "|      EttaDevine|2018-04-23 18:17:08|   retweet|           1995|b'RT @samswey: Th...|\n",
      "|          TazKHC|2018-04-23 18:17:08|   retweet|            991|b'RT @MrFilmkriti...|\n",
      "|     sheltielove|2018-04-23 18:17:08|   retweet|            607|\"b\"\"RT @MichaelAv...|\n",
      "|       jimtom455|2018-04-23 18:17:08|   retweet|            578|\"b\"\"RT @Pappiness...|\n",
      "|        keishi59|2018-04-23 18:17:08|   retweet|            576|\"b'RT @EdKrassen:...|\n",
      "|     sedonanhill|2018-04-23 18:17:08|   retweet|            574|\"b\"\"RT @DuncanLin...|\n",
      "|        Tex2Blue|2018-04-23 18:17:08|   retweet|            376|b'RT @anne_deactr...|\n",
      "|  notcomplicit23|2018-04-23 18:17:08|   retweet|            275|b'RT @FMoniteau: ...|\n",
      "+----------------+-------------------+----------+---------------+--------------------+\n",
      "\n"
     ]
    }
   ],
   "source": [
    "df.orderBy(df.followers_count.desc()).show(10)\n",
    "top10_df=df.orderBy(df.followers_count.desc())"
   ]
  },
  {
   "cell_type": "code",
   "execution_count": 24,
   "metadata": {},
   "outputs": [
    {
     "data": {
      "text/html": [
       "<div>\n",
       "<style scoped>\n",
       "    .dataframe tbody tr th:only-of-type {\n",
       "        vertical-align: middle;\n",
       "    }\n",
       "\n",
       "    .dataframe tbody tr th {\n",
       "        vertical-align: top;\n",
       "    }\n",
       "\n",
       "    .dataframe thead th {\n",
       "        text-align: right;\n",
       "    }\n",
       "</style>\n",
       "<table border=\"1\" class=\"dataframe\">\n",
       "  <thead>\n",
       "    <tr style=\"text-align: right;\">\n",
       "      <th></th>\n",
       "      <th>user_screen_name</th>\n",
       "      <th>created_at</th>\n",
       "      <th>tweet_type</th>\n",
       "      <th>followers_count</th>\n",
       "      <th>tweet_text</th>\n",
       "    </tr>\n",
       "  </thead>\n",
       "  <tbody>\n",
       "    <tr>\n",
       "      <th>0</th>\n",
       "      <td>NVPatriot1</td>\n",
       "      <td>2018-04-23 18:17:08</td>\n",
       "      <td>retweet</td>\n",
       "      <td>14568</td>\n",
       "      <td>\"b\"\"RT @TheRealHublife: They're going to chase...</td>\n",
       "    </tr>\n",
       "    <tr>\n",
       "      <th>1</th>\n",
       "      <td>michaelwweston</td>\n",
       "      <td>2018-04-23 18:17:08</td>\n",
       "      <td>retweet</td>\n",
       "      <td>12003</td>\n",
       "      <td>\"b\"\"RT @JackPosobiec: Donald Trump is Presiden...</td>\n",
       "    </tr>\n",
       "    <tr>\n",
       "      <th>2</th>\n",
       "      <td>EttaDevine</td>\n",
       "      <td>2018-04-23 18:17:08</td>\n",
       "      <td>retweet</td>\n",
       "      <td>1995</td>\n",
       "      <td>b'RT @samswey: The Waffle House mass shooter \\...</td>\n",
       "    </tr>\n",
       "    <tr>\n",
       "      <th>3</th>\n",
       "      <td>TazKHC</td>\n",
       "      <td>2018-04-23 18:17:08</td>\n",
       "      <td>retweet</td>\n",
       "      <td>991</td>\n",
       "      <td>b'RT @MrFilmkritik: There was a Nazi rally in ...</td>\n",
       "    </tr>\n",
       "    <tr>\n",
       "      <th>4</th>\n",
       "      <td>sheltielove</td>\n",
       "      <td>2018-04-23 18:17:08</td>\n",
       "      <td>retweet</td>\n",
       "      <td>607</td>\n",
       "      <td>\"b\"\"RT @MichaelAvenatti: Here you go @brithume...</td>\n",
       "    </tr>\n",
       "    <tr>\n",
       "      <th>5</th>\n",
       "      <td>jimtom455</td>\n",
       "      <td>2018-04-23 18:17:08</td>\n",
       "      <td>retweet</td>\n",
       "      <td>578</td>\n",
       "      <td>\"b\"\"RT @Pappiness: We need to talk about the w...</td>\n",
       "    </tr>\n",
       "    <tr>\n",
       "      <th>6</th>\n",
       "      <td>keishi59</td>\n",
       "      <td>2018-04-23 18:17:08</td>\n",
       "      <td>retweet</td>\n",
       "      <td>576</td>\n",
       "      <td>\"b'RT @EdKrassen: BOOM! Nashville Waffle House...</td>\n",
       "    </tr>\n",
       "    <tr>\n",
       "      <th>7</th>\n",
       "      <td>sedonanhill</td>\n",
       "      <td>2018-04-23 18:17:08</td>\n",
       "      <td>retweet</td>\n",
       "      <td>574</td>\n",
       "      <td>\"b\"\"RT @DuncanLindsay: Shania Twain would vote...</td>\n",
       "    </tr>\n",
       "    <tr>\n",
       "      <th>8</th>\n",
       "      <td>Tex2Blue</td>\n",
       "      <td>2018-04-23 18:17:08</td>\n",
       "      <td>retweet</td>\n",
       "      <td>376</td>\n",
       "      <td>b'RT @anne_deactress: Thanks for the input, Sh...</td>\n",
       "    </tr>\n",
       "    <tr>\n",
       "      <th>9</th>\n",
       "      <td>notcomplicit23</td>\n",
       "      <td>2018-04-23 18:17:08</td>\n",
       "      <td>retweet</td>\n",
       "      <td>275</td>\n",
       "      <td>b'RT @FMoniteau: White privilege in action!\\\\n...</td>\n",
       "    </tr>\n",
       "  </tbody>\n",
       "</table>\n",
       "</div>"
      ],
      "text/plain": [
       "  user_screen_name          created_at tweet_type  followers_count  \\\n",
       "0       NVPatriot1 2018-04-23 18:17:08    retweet            14568   \n",
       "1   michaelwweston 2018-04-23 18:17:08    retweet            12003   \n",
       "2       EttaDevine 2018-04-23 18:17:08    retweet             1995   \n",
       "3           TazKHC 2018-04-23 18:17:08    retweet              991   \n",
       "4      sheltielove 2018-04-23 18:17:08    retweet              607   \n",
       "5        jimtom455 2018-04-23 18:17:08    retweet              578   \n",
       "6         keishi59 2018-04-23 18:17:08    retweet              576   \n",
       "7      sedonanhill 2018-04-23 18:17:08    retweet              574   \n",
       "8         Tex2Blue 2018-04-23 18:17:08    retweet              376   \n",
       "9   notcomplicit23 2018-04-23 18:17:08    retweet              275   \n",
       "\n",
       "                                          tweet_text  \n",
       "0  \"b\"\"RT @TheRealHublife: They're going to chase...  \n",
       "1  \"b\"\"RT @JackPosobiec: Donald Trump is Presiden...  \n",
       "2  b'RT @samswey: The Waffle House mass shooter \\...  \n",
       "3  b'RT @MrFilmkritik: There was a Nazi rally in ...  \n",
       "4  \"b\"\"RT @MichaelAvenatti: Here you go @brithume...  \n",
       "5  \"b\"\"RT @Pappiness: We need to talk about the w...  \n",
       "6  \"b'RT @EdKrassen: BOOM! Nashville Waffle House...  \n",
       "7  \"b\"\"RT @DuncanLindsay: Shania Twain would vote...  \n",
       "8  b'RT @anne_deactress: Thanks for the input, Sh...  \n",
       "9  b'RT @FMoniteau: White privilege in action!\\\\n...  "
      ]
     },
     "execution_count": 24,
     "metadata": {},
     "output_type": "execute_result"
    }
   ],
   "source": [
    "#Converting it to Pandas df for better view\n",
    "top10_df_pd=top10_df.toPandas()\n",
    "top10_df_pd.head(10)"
   ]
  },
  {
   "cell_type": "markdown",
   "metadata": {},
   "source": [
    "## Get top 10 trending Topics in twitter right now"
   ]
  },
  {
   "cell_type": "code",
   "execution_count": 27,
   "metadata": {},
   "outputs": [],
   "source": [
    "df1=df.toPandas()"
   ]
  },
  {
   "cell_type": "code",
   "execution_count": 28,
   "metadata": {},
   "outputs": [
    {
     "data": {
      "text/plain": [
       "[('the', 7),\n",
       " ('\"b\"\"RT', 5),\n",
       " ('of', 5),\n",
       " (\"b'RT\", 4),\n",
       " ('in', 4),\n",
       " ('to', 3),\n",
       " ('was', 3),\n",
       " ('a', 3),\n",
       " ('is', 3),\n",
       " ('about', 2)]"
      ]
     },
     "execution_count": 28,
     "metadata": {},
     "output_type": "execute_result"
    }
   ],
   "source": [
    "from collections import Counter\n",
    "Counter(\" \".join(df1['tweet_text']).split()).most_common(10)"
   ]
  },
  {
   "cell_type": "code",
   "execution_count": 30,
   "metadata": {},
   "outputs": [],
   "source": [
    "%matplotlib inline\n",
    "import sys\n",
    "import matplotlib.pyplot as plt\n",
    "from matplotlib import cm\n",
    "from pyspark import SparkContext\n",
    "from pyspark.streaming import StreamingContext\n",
    "from textblob import TextBlob\n",
    "from tweepy.streaming import StreamListener\n",
    "from tweepy import OAuthHandler\n",
    "from tweepy import Stream\n",
    "from tweepy import API\n",
    "from kafka import SimpleProducer, KafkaClient\n",
    "import time\n",
    "import logging\n",
    "import time\n",
    "import csv\n",
    "import json\n",
    "import tweepy\n",
    "#import twitter_config\n",
    "from tweepy import OAuthHandler\n",
    "from tweepy import Stream\n",
    "from tweepy.streaming import StreamListener\n",
    "from datetime import datetime\n",
    "from dateutil import parser\n",
    "from pprint import pprint\n",
    "# enable logging\n",
    "logging.basicConfig(level=logging.INFO, \n",
    "                    format='%(asctime)s %(levelname)s %(module)s - %(funcName)s: %(message)s', \n",
    "                    datefmt=\"%Y-%m-%d %H:%M:%S\")\n",
    "logger = logging.getLogger()\n",
    "logger.setLevel(logging.INFO)"
   ]
  },
  {
   "cell_type": "code",
   "execution_count": 31,
   "metadata": {
    "collapsed": true
   },
   "outputs": [],
   "source": [
    "# parse data\n",
    "def parse_tweet(data):\n",
    "\n",
    "    # load JSON item into a dict\n",
    "    tweet = json.loads(data)\n",
    "    send_data = '{}'\n",
    "    json_send_data = json.loads(send_data)\n",
    "    json_send_data['text'] = tweet['text'].encode(\"utf-8\")\n",
    "    return json_send_data\n",
    "\n"
   ]
  },
  {
   "cell_type": "code",
   "execution_count": 32,
   "metadata": {
    "collapsed": true
   },
   "outputs": [],
   "source": [
    "def extract_content(tweet):\n",
    "\n",
    "    content = [tweet['text']]              \n",
    "               \n",
    "\n",
    "    return content"
   ]
  },
  {
   "cell_type": "code",
   "execution_count": null,
   "metadata": {},
   "outputs": [],
   "source": [
    "#sc.stop()\n",
    "sc = SparkContext(appName=\"Spark Streaming mini project\")\n",
    "\n",
    "# Create a StreamingContext with a batch interval of 10 seconds\n",
    "stc = StreamingContext(sc, 10)"
   ]
  },
  {
   "cell_type": "code",
   "execution_count": 33,
   "metadata": {
    "collapsed": true
   },
   "outputs": [],
   "source": [
    "stc.checkpoint(\"checkpoint11\")"
   ]
  },
  {
   "cell_type": "code",
   "execution_count": 34,
   "metadata": {
    "collapsed": true
   },
   "outputs": [],
   "source": [
    "ACCESS_TOKEN = \"929614339148881920-UbNXHep9n0thWJvc5uCQ9O26tRJ3tPy\"\n",
    "ACCESS_TOKEN_SECRET =  \"9CoIwwlDFzHhuGdfSm4lwUsttkDOKljc6NxMESBjsd3IO\"\n",
    "CONSUMER_KEY =  \"vkjuBraomckC8fOr0WssHa9FN\"\n",
    "CONSUMER_SECRET =  \"rGkA4V5m0UuHemzME6NATbm79v52qIaAD85nuCjXLIdQ6qXvKS\"\n",
    "KAFKA_ENDPOINT = \"ip-20-0-32-4.ap-south-1.compute.internal:9092\"\n",
    "KAFKA_TOPIC = \"Group3_MY\"\n",
    "TIME_LIMIT = 30\n",
    "ITERATIONS= 180"
   ]
  },
  {
   "cell_type": "code",
   "execution_count": 36,
   "metadata": {},
   "outputs": [
    {
     "name": "stderr",
     "output_type": "stream",
     "text": [
      "2018-04-23 18:21:05 INFO topic - <module>: Could not load pykafka.rdkafka extension.\n"
     ]
    }
   ],
   "source": [
    "import tweepy\n",
    "from tweepy import OAuthHandler\n",
    "from tweepy import Stream\n",
    "from tweepy.streaming import StreamListener\n",
    "import json\n",
    "#import twitter_config\n",
    "import pykafka\n",
    "kafka_endpoint = \"ip-20-0-32-4.ap-south-1.compute.internal:9092\"\n",
    "#from kafka import SimpleProducer, KafkaClient\n",
    "from afinn import Afinn\n",
    "import sys\n",
    "import time\n",
    "time_limit = 10\n",
    "\n",
    "kafka_topic = 'Group3_MY'\n",
    "\n",
    "class StdOutListener(StreamListener):\n",
    "    def __init__(self, time_limit=time_limit):\n",
    "        self.start_time = time.time()\n",
    "        self.limit = time_limit\n",
    "        self.iterations = ITERATIONS\n",
    "        self.index = 0\n",
    "        super(StdOutListener, self).__init__()\n",
    "\n",
    "\n",
    "    def on_data(self, data):\n",
    "            if (time.time() - self.start_time) < self.limit:\n",
    "                \n",
    "                tweet = parse_tweet(data)\n",
    "                self.index += 1\n",
    "                content = extract_content(tweet)\n",
    "\n",
    "#print(json_send_data['text'.encode(\"utf-8\")], \" >>>>>>>>>>>>>>>>>>>>>>>>>>>>>>>>> \", json_send_data['senti_val'])\n",
    "\n",
    "#self.producer.produce(bytes(json.dumps(json_send_data)))\n",
    "            \n",
    "                with open('tweets31.csv', 'a') as f: \n",
    "                    writer = csv.writer(f, quotechar = '\"')\n",
    "                    writer.writerow(content)\n",
    "                print (self.index)\n",
    "                if self.index == self.iterations:\n",
    "                    return False\n",
    "                else:\n",
    "                    return True\n",
    "            exit(0)\n",
    "\n",
    "    def on_error(self, status):\n",
    "        print(status)\n",
    "        return True"
   ]
  },
  {
   "cell_type": "code",
   "execution_count": 37,
   "metadata": {},
   "outputs": [
    {
     "name": "stderr",
     "output_type": "stream",
     "text": [
      "2018-04-23 18:21:24 INFO conn - connect: <BrokerConnection node_id=0 host=ip-20-0-32-4.ap-south-1.compute.internal:9092 <connecting> [IPv4 ('20.0.32.4', 9092)]>: connecting to ip-20-0-32-4.ap-south-1.compute.internal:9092 [('20.0.32.4', 9092) IPv4]\n",
      "2018-04-23 18:21:24 INFO conn - connect: <BrokerConnection node_id=0 host=ip-20-0-32-4.ap-south-1.compute.internal:9092 <connecting> [IPv4 ('20.0.32.4', 9092)]>: Connection complete.\n"
     ]
    },
    {
     "name": "stdout",
     "output_type": "stream",
     "text": [
      "1\n",
      "2\n",
      "3\n",
      "4\n",
      "5\n",
      "6\n",
      "7\n",
      "8\n",
      "9\n",
      "10\n",
      "11\n",
      "12\n",
      "13\n",
      "14\n",
      "15\n",
      "16\n",
      "17\n",
      "18\n",
      "19\n",
      "20\n",
      "21\n",
      "22\n",
      "23\n",
      "24\n",
      "25\n",
      "26\n",
      "27\n",
      "28\n",
      "29\n",
      "30\n",
      "31\n",
      "32\n",
      "33\n",
      "34\n",
      "35\n",
      "36\n",
      "37\n",
      "38\n",
      "39\n",
      "40\n",
      "41\n",
      "42\n",
      "43\n",
      "44\n",
      "45\n",
      "46\n",
      "47\n",
      "48\n",
      "49\n",
      "50\n",
      "51\n",
      "52\n",
      "53\n",
      "54\n",
      "55\n",
      "56\n",
      "57\n",
      "58\n",
      "59\n",
      "60\n",
      "61\n",
      "62\n",
      "63\n",
      "64\n",
      "65\n",
      "66\n",
      "67\n",
      "68\n",
      "69\n",
      "70\n",
      "71\n",
      "72\n",
      "73\n",
      "74\n",
      "75\n",
      "76\n",
      "77\n",
      "78\n",
      "79\n",
      "80\n",
      "81\n",
      "82\n",
      "83\n",
      "84\n",
      "85\n",
      "86\n",
      "87\n",
      "88\n",
      "89\n",
      "90\n",
      "91\n",
      "92\n",
      "93\n",
      "94\n",
      "95\n",
      "96\n",
      "97\n",
      "98\n",
      "99\n",
      "100\n",
      "101\n",
      "102\n",
      "103\n",
      "104\n",
      "105\n",
      "106\n",
      "107\n",
      "108\n",
      "109\n",
      "110\n",
      "111\n",
      "112\n",
      "113\n",
      "114\n",
      "115\n",
      "116\n",
      "117\n",
      "118\n",
      "119\n",
      "120\n",
      "121\n",
      "122\n",
      "123\n",
      "124\n",
      "125\n",
      "126\n",
      "127\n",
      "128\n",
      "129\n",
      "130\n",
      "131\n",
      "132\n",
      "133\n",
      "134\n",
      "135\n",
      "136\n",
      "137\n",
      "138\n",
      "139\n",
      "140\n",
      "141\n",
      "142\n",
      "143\n",
      "144\n",
      "145\n",
      "146\n",
      "147\n",
      "148\n",
      "149\n",
      "150\n",
      "151\n",
      "152\n",
      "153\n",
      "154\n",
      "155\n",
      "156\n",
      "157\n",
      "158\n",
      "159\n",
      "160\n",
      "161\n",
      "162\n",
      "163\n",
      "164\n",
      "165\n",
      "166\n",
      "167\n",
      "168\n",
      "169\n",
      "170\n",
      "171\n",
      "172\n",
      "173\n",
      "174\n",
      "175\n",
      "176\n",
      "177\n",
      "178\n",
      "179\n",
      "180\n"
     ]
    }
   ],
   "source": [
    "kafka = KafkaClient(KAFKA_ENDPOINT)\n",
    "producer = SimpleProducer(kafka)\n",
    "l = StdOutListener()\n",
    "auth = OAuthHandler(CONSUMER_KEY, CONSUMER_SECRET)\n",
    "auth.set_access_token(ACCESS_TOKEN, ACCESS_TOKEN_SECRET)\n",
    "afinn = Afinn()\n",
    "stream = Stream(auth, l)\n",
    "stream.filter(track = ['trump'], languages = ['en'])"
   ]
  },
  {
   "cell_type": "code",
   "execution_count": 38,
   "metadata": {
    "collapsed": true
   },
   "outputs": [],
   "source": [
    "from pyspark import SparkContext,SQLContext,SparkConf,StorageLevel\n",
    "from pyspark.sql.types import StructType, StructField, IntegerType,StringType,TimestampType\n",
    "sql = SQLContext(sc)\n",
    "schema = StructType([\n",
    "    StructField(\"text\", StringType(), True)])\n",
    "\n",
    "#Read the csv as dataframe\n",
    "df = sql.read.format('com.databricks.spark.csv').options(header='false', inferschema='true').load('tweets31.csv')"
   ]
  },
  {
   "cell_type": "code",
   "execution_count": 39,
   "metadata": {},
   "outputs": [
    {
     "name": "stdout",
     "output_type": "stream",
     "text": [
      "+--------------------+\n",
      "|                text|\n",
      "+--------------------+\n",
      "|b'He is way too d...|\n",
      "|b'RT @SethAbramso...|\n",
      "|\"b'RT @TeaPainUSA...|\n",
      "|b'Macron knows U....|\n",
      "|b'RT @IronStache:...|\n",
      "|b'RT @JonathanBli...|\n",
      "|\"b\"\"RT @politicus...|\n",
      "|b'RT @SurfPHX: \\x...|\n",
      "|\"b'RT @KimStrasse...|\n",
      "|\"b'Retweeted Wond...|\n",
      "|b'RT @RWPUSA: Con...|\n",
      "|b'RT @KMGGaryde: ...|\n",
      "|\"b'RT @adamcbest:...|\n",
      "|\"b'RT @activist36...|\n",
      "|b'RT @20committee...|\n",
      "|\"b'RT @Channel4Ne...|\n",
      "|b'Media has so mu...|\n",
      "|\"b\"\"RT @JohnWDean...|\n",
      "|b'RT @jtblogs: Tr...|\n",
      "|b'RT @RWPUSA: Con...|\n",
      "+--------------------+\n",
      "only showing top 20 rows\n",
      "\n"
     ]
    }
   ],
   "source": [
    "df = df.selectExpr(\"_c0 as text\")\n",
    "df.show()"
   ]
  },
  {
   "cell_type": "code",
   "execution_count": 40,
   "metadata": {
    "collapsed": true
   },
   "outputs": [],
   "source": [
    "lines  = df.rdd"
   ]
  },
  {
   "cell_type": "code",
   "execution_count": 41,
   "metadata": {},
   "outputs": [
    {
     "data": {
      "text/plain": [
       "[Row(text=\"b'He is way too dumb to realize that. https://t.co/eFmmvjwEYD'\"),\n",
       " Row(text=\"b'RT @SethAbramson: I learned from years in courtrooms that certain criminal defendants will continue criming until someone stops them. The G\\\\xe2\\\\x80\\\\xa6'\"),\n",
       " Row(text='\"b\\'RT @TeaPainUSA: \"\"Yes'),\n",
       " Row(text=\"b'Macron knows U.S. foreign policy is always about #Trump https://t.co/1GZxF5sYr8'\"),\n",
       " Row(text=\"b'RT @IronStache: Donald Trump and the @GOP talk a lot about, xe2x80x9cMoving needy people off of government help.xe2x80x9d Funny how they never say a word axe2x80xa6'\"),\n",
       " Row(text=\"b'RT @JonathanBlitzer: Trump is influencing voters in foreign elections, beginning with Mexican immigrants living in the U.S. My latest: httpxe2x80xa6'\"),\n",
       " Row(text='\"b\"\"RT @politicususa: You hate America if you don\\'t vote for Pompeo is such an insult that Sarah Huckabee Sanders must apologize. Donald Trump\\\\xe2\\\\x80\\\\xa6\"\"\"'),\n",
       " Row(text=\"b'RT @SurfPHX: \\\\xf0\\\\x9f\\\\x93\\\\x8dBrad Thor Should Stick To Writing. \\\\xf0\\\\x9f\\\\x93\\\\x9d \\\\n\\\\n\\\\xf0\\\\x9f\\\\x93\\\\x8dTRUMP HAS MY VOTE!\\\\xf0\\\\x9f\\\\x91\\\\x8a\\\\xf0\\\\x9f\\\\x8f\\\\xbb\\\\n\\\\n\\\\xf0\\\\x9f\\\\x93\\\\x8dConservative Author Brad Thor Announces Challenge to Trump in\\\\xe2\\\\x80\\\\xa6'\"),\n",
       " Row(text='\"b\\'RT @KimStrassel: And yet not one charge from the original purpose of SC Mueller--to investigate \"\"coordination between the Russian governmen\\\\xe2\\\\x80\\\\xa6\\'\"'),\n",
       " Row(text='\"b\\'Retweeted WonderWoman2KAG (@KillerKellyReno):nnBetter Title: \"\"Company formerly beloved by sportsmen &amp; sportswomen a\\\\xe2\\\\x80\\\\xa6 https://t.co/2pT9yIWjb0\\'\"')]"
      ]
     },
     "execution_count": 41,
     "metadata": {},
     "output_type": "execute_result"
    }
   ],
   "source": [
    "lines.take(10)"
   ]
  },
  {
   "cell_type": "code",
   "execution_count": 42,
   "metadata": {
    "collapsed": true
   },
   "outputs": [],
   "source": [
    "from collections import namedtuple\n",
    "fields = (\"tag\", \"count\" )\n",
    "Tweet = namedtuple( 'Tweet', fields )"
   ]
  },
  {
   "cell_type": "code",
   "execution_count": 43,
   "metadata": {
    "collapsed": true
   },
   "outputs": [],
   "source": [
    "words = lines.flatMap(lambda line: line[0].split(\" \"))\n",
    "\n",
    "# filter the words to get only hashtags, then map each hashtag to be a pair of (hashtag,1)\n",
    "hashtags = words.filter(lambda w: '#' in w).map(lambda x: (x, 1))\n",
    "# adding the count of each hashtag to its last count\n",
    "hashtag1 = hashtags.reduceByKey( lambda a, b: a + b )\n",
    "df2 = hashtag1.map( lambda rec: Tweet(rec[0], rec[1])).toDF()"
   ]
  },
  {
   "cell_type": "code",
   "execution_count": 44,
   "metadata": {},
   "outputs": [
    {
     "name": "stdout",
     "output_type": "stream",
     "text": [
      "+--------------------+-----+\n",
      "|                 tag|count|\n",
      "+--------------------+-----+\n",
      "|              #Trump|    2|\n",
      "|          #WikiLeaks|    1|\n",
      "|          #Discovery|    1|\n",
      "|      #Winning!\\nThe|    1|\n",
      "|    #Tr\\xe2\\x80\\xa6'|    1|\n",
      "|#2020election??\\n...|    1|\n",
      "|              poll!#|    1|\n",
      "|      #TheResistance|    1|\n",
      "|              #trump|    1|\n",
      "|             #Follow|    1|\n",
      "|          \\n\\n#TRUMP|    1|\n",
      "|       #TrumpRussia'|    1|\n",
      "|                #FBR|    1|\n",
      "|plumber.\\n\\nIdiot...|    1|\n",
      "|               #Lie!|    1|\n",
      "|#FAKENEWSindustri...|    1|\n",
      "|              #media|    1|\n",
      "|       #Antisemitism|    1|\n",
      "|                  #1|    1|\n",
      "|           #dilemma'|    1|\n",
      "+--------------------+-----+\n",
      "only showing top 20 rows\n",
      "\n"
     ]
    }
   ],
   "source": [
    "df2.orderBy('count', ascending=False).show()"
   ]
  },
  {
   "cell_type": "code",
   "execution_count": null,
   "metadata": {
    "collapsed": true
   },
   "outputs": [],
   "source": [
    "ssc.stop()"
   ]
  },
  {
   "cell_type": "markdown",
   "metadata": {},
   "source": [
    "## Sentiment Analysis (On iPhone)"
   ]
  },
  {
   "cell_type": "code",
   "execution_count": 4,
   "metadata": {},
   "outputs": [],
   "source": [
    "%matplotlib inline\n",
    "import sys\n",
    "import matplotlib.pyplot as plt\n",
    "from matplotlib import cm\n",
    "from pyspark import SparkContext\n",
    "from pyspark.streaming import StreamingContext\n",
    "from textblob import TextBlob\n",
    "from tweepy.streaming import StreamListener\n",
    "from tweepy import OAuthHandler\n",
    "from tweepy import Stream\n",
    "from tweepy import API\n",
    "from kafka import SimpleProducer, KafkaClient\n",
    "import time\n",
    "import logging\n",
    "import time\n",
    "import csv\n",
    "import json\n",
    "import tweepy\n",
    "#import twitter_config\n",
    "from tweepy import OAuthHandler\n",
    "from tweepy import Stream\n",
    "from tweepy.streaming import StreamListener\n",
    "from datetime import datetime\n",
    "from dateutil import parser\n",
    "from pprint import pprint\n",
    "# enable logging\n",
    "logging.basicConfig(level=logging.INFO, \n",
    "                    format='%(asctime)s %(levelname)s %(module)s - %(funcName)s: %(message)s', \n",
    "                    datefmt=\"%Y-%m-%d %H:%M:%S\")\n",
    "logger = logging.getLogger()\n",
    "logger.setLevel(logging.INFO)"
   ]
  },
  {
   "cell_type": "code",
   "execution_count": 5,
   "metadata": {
    "collapsed": true
   },
   "outputs": [],
   "source": [
    "# parse data\n",
    "def parse_tweet(data):\n",
    "\n",
    "    # load JSON item into a dict\n",
    "    tweet = json.loads(data)\n",
    "    send_data = '{}'\n",
    "    json_send_data = json.loads(send_data)\n",
    "    json_send_data['text'] = tweet['text'].encode(\"utf-8\")\n",
    "    json_send_data['senti_val']=afinn.score(tweet['text'])\n",
    "    return json_send_data\n",
    "\n"
   ]
  },
  {
   "cell_type": "code",
   "execution_count": 6,
   "metadata": {
    "collapsed": true
   },
   "outputs": [],
   "source": [
    "def extract_content(tweet):\n",
    "\n",
    "    content = [tweet['text'],               \n",
    "               tweet['senti_val']]\n",
    "\n",
    "    return content"
   ]
  },
  {
   "cell_type": "code",
   "execution_count": null,
   "metadata": {
    "collapsed": true
   },
   "outputs": [],
   "source": [
    "sc.stop()"
   ]
  },
  {
   "cell_type": "code",
   "execution_count": 8,
   "metadata": {},
   "outputs": [
    {
     "name": "stderr",
     "output_type": "stream",
     "text": [
      "2018-04-23 18:30:32 INFO java_gateway - run: Callback Server Starting\n",
      "2018-04-23 18:30:32 INFO java_gateway - run: Socket listening on ('127.0.0.1', 43721)\n"
     ]
    }
   ],
   "source": [
    "sc = SparkContext(appName=\"Spark Streaming mini project\")\n",
    "\n",
    "# Create a StreamingContext with a batch interval of 10 seconds\n",
    "stc = StreamingContext(sc, 10)"
   ]
  },
  {
   "cell_type": "code",
   "execution_count": 9,
   "metadata": {
    "collapsed": true
   },
   "outputs": [],
   "source": [
    "stc.checkpoint(\"checkpoint12\")"
   ]
  },
  {
   "cell_type": "code",
   "execution_count": 10,
   "metadata": {
    "collapsed": true
   },
   "outputs": [],
   "source": [
    "ACCESS_TOKEN = \"929614339148881920-UbNXHep9n0thWJvc5uCQ9O26tRJ3tPy\"\n",
    "ACCESS_TOKEN_SECRET =  \"9CoIwwlDFzHhuGdfSm4lwUsttkDOKljc6NxMESBjsd3IO\"\n",
    "CONSUMER_KEY =  \"vkjuBraomckC8fOr0WssHa9FN\"\n",
    "CONSUMER_SECRET =  \"rGkA4V5m0UuHemzME6NATbm79v52qIaAD85nuCjXLIdQ6qXvKS\"\n",
    "KAFKA_ENDPOINT = \"ip-20-0-32-4.ap-south-1.compute.internal:9092\"\n",
    "KAFKA_TOPIC = \"Group3_MY\"\n",
    "TIME_LIMIT = 10\n",
    "ITERATIONS= 7"
   ]
  },
  {
   "cell_type": "code",
   "execution_count": 11,
   "metadata": {},
   "outputs": [],
   "source": [
    "import tweepy\n",
    "from tweepy import OAuthHandler\n",
    "from tweepy import Stream\n",
    "from tweepy.streaming import StreamListener\n",
    "import json\n",
    "#import twitter_config\n",
    "import pykafka\n",
    "kafka_endpoint = \"ip-20-0-32-4.ap-south-1.compute.internal:9092\"\n",
    "#from kafka import SimpleProducer, KafkaClient\n",
    "from afinn import Afinn\n",
    "import sys\n",
    "import time\n",
    "time_limit = 10\n",
    "\n",
    "kafka_topic = 'Group3_MY'\n",
    "\n",
    "class StdOutListener(StreamListener):\n",
    "    def __init__(self, time_limit=time_limit):\n",
    "        self.start_time = time.time()\n",
    "        self.limit = time_limit\n",
    "        self.iterations = ITERATIONS\n",
    "        self.index = 0\n",
    "        super(StdOutListener, self).__init__()\n",
    "\n",
    "\n",
    "    def on_data(self, data):\n",
    "            if (time.time() - self.start_time) < self.limit:\n",
    "                \n",
    "                tweet = parse_tweet(data)\n",
    "                self.index += 1\n",
    "                content = extract_content(tweet)\n",
    "\n",
    "#print(json_send_data['text'.encode(\"utf-8\")], \" >>>>>>>>>>>>>>>>>>>>>>>>>>>>>>>>> \", json_send_data['senti_val'])\n",
    "\n",
    "#self.producer.produce(bytes(json.dumps(json_send_data)))\n",
    "            \n",
    "                with open('tweets33.csv', 'a') as f: \n",
    "                    writer = csv.writer(f, quotechar = '\"')\n",
    "                    writer.writerow(content)\n",
    "                print (self.index)\n",
    "                if self.index == self.iterations:\n",
    "                    return False\n",
    "                else:\n",
    "                    return True\n",
    "            exit(0)\n",
    "\n",
    "    def on_error(self, status):\n",
    "        print(status)\n",
    "        return True"
   ]
  },
  {
   "cell_type": "code",
   "execution_count": 12,
   "metadata": {},
   "outputs": [
    {
     "name": "stderr",
     "output_type": "stream",
     "text": [
      "2018-04-23 18:30:45 INFO conn - connect: <BrokerConnection node_id=0 host=ip-20-0-32-4.ap-south-1.compute.internal:9092 <connecting> [IPv4 ('20.0.32.4', 9092)]>: connecting to ip-20-0-32-4.ap-south-1.compute.internal:9092 [('20.0.32.4', 9092) IPv4]\n",
      "2018-04-23 18:30:45 INFO conn - connect: <BrokerConnection node_id=0 host=ip-20-0-32-4.ap-south-1.compute.internal:9092 <connecting> [IPv4 ('20.0.32.4', 9092)]>: Connection complete.\n"
     ]
    },
    {
     "name": "stdout",
     "output_type": "stream",
     "text": [
      "1\n",
      "2\n",
      "3\n",
      "4\n",
      "5\n",
      "6\n",
      "7\n"
     ]
    }
   ],
   "source": [
    "kafka = KafkaClient(KAFKA_ENDPOINT)\n",
    "producer = SimpleProducer(kafka)\n",
    "l = StdOutListener()\n",
    "auth = OAuthHandler(CONSUMER_KEY, CONSUMER_SECRET)\n",
    "auth.set_access_token(ACCESS_TOKEN, ACCESS_TOKEN_SECRET)\n",
    "afinn = Afinn()\n",
    "stream = Stream(auth, l)\n",
    "stream.filter(track = ['iPhone'], languages = ['en'])"
   ]
  },
  {
   "cell_type": "code",
   "execution_count": 13,
   "metadata": {
    "collapsed": true
   },
   "outputs": [],
   "source": [
    "from pyspark import SparkContext,SQLContext,SparkConf,StorageLevel\n",
    "from pyspark.sql.types import StructType, StructField, IntegerType,StringType,TimestampType\n",
    "sql = SQLContext(sc)\n",
    "schema = StructType([\n",
    "    StructField(\"text\", StringType(), True),\n",
    "    StructField(\"senti_val\", IntegerType(), True)])\n",
    "\n",
    "#Read the csv as dataframe\n",
    "df = sql.read.format('com.databricks.spark.csv').options(header='false', inferschema='true').load('tweets33.csv')"
   ]
  },
  {
   "cell_type": "code",
   "execution_count": 14,
   "metadata": {},
   "outputs": [
    {
     "name": "stdout",
     "output_type": "stream",
     "text": [
      "root\n",
      " |-- _c0: string (nullable = true)\n",
      " |-- _c1: double (nullable = true)\n",
      "\n"
     ]
    }
   ],
   "source": [
    "df.printSchema()"
   ]
  },
  {
   "cell_type": "code",
   "execution_count": 15,
   "metadata": {},
   "outputs": [
    {
     "name": "stdout",
     "output_type": "stream",
     "text": [
      "+--------------------+---------+\n",
      "|                text|senti_val|\n",
      "+--------------------+---------+\n",
      "|b'RT @KeepAustinE...|     10.0|\n",
      "|b'serious inquiri...|      0.0|\n",
      "|b'RT @PranavDixit...|     -2.0|\n",
      "|b'RT @BillyBobSan...|     -1.0|\n",
      "|b'Turn it off bef...|      0.0|\n",
      "|b'The Vamps - Som...|      0.0|\n",
      "|b'Got an iPhone X...|      0.0|\n",
      "+--------------------+---------+\n",
      "\n"
     ]
    }
   ],
   "source": [
    "df = df.selectExpr(\"_c0 as text\", \"_c1 as senti_val\")\n",
    "df.show()"
   ]
  },
  {
   "cell_type": "code",
   "execution_count": 16,
   "metadata": {},
   "outputs": [
    {
     "data": {
      "text/html": [
       "<div>\n",
       "<style scoped>\n",
       "    .dataframe tbody tr th:only-of-type {\n",
       "        vertical-align: middle;\n",
       "    }\n",
       "\n",
       "    .dataframe tbody tr th {\n",
       "        vertical-align: top;\n",
       "    }\n",
       "\n",
       "    .dataframe thead th {\n",
       "        text-align: right;\n",
       "    }\n",
       "</style>\n",
       "<table border=\"1\" class=\"dataframe\">\n",
       "  <thead>\n",
       "    <tr style=\"text-align: right;\">\n",
       "      <th></th>\n",
       "      <th>text</th>\n",
       "      <th>senti_val</th>\n",
       "    </tr>\n",
       "  </thead>\n",
       "  <tbody>\n",
       "    <tr>\n",
       "      <th>0</th>\n",
       "      <td>b'RT @KeepAustinEatin: Happy Friday people!! H...</td>\n",
       "      <td>10.0</td>\n",
       "    </tr>\n",
       "    <tr>\n",
       "      <th>1</th>\n",
       "      <td>b'serious inquiries only https://t.co/W8SCHCiHKh'</td>\n",
       "      <td>0.0</td>\n",
       "    </tr>\n",
       "    <tr>\n",
       "      <th>2</th>\n",
       "      <td>b'RT @PranavDixit: Remember how my iPhone got ...</td>\n",
       "      <td>-2.0</td>\n",
       "    </tr>\n",
       "    <tr>\n",
       "      <th>3</th>\n",
       "      <td>b'RT @BillyBobSanderz: Let\\xe2\\x80\\x99s take a...</td>\n",
       "      <td>-1.0</td>\n",
       "    </tr>\n",
       "    <tr>\n",
       "      <th>4</th>\n",
       "      <td>b'Turn it off before they track it \\xf0\\x9f\\x9...</td>\n",
       "      <td>0.0</td>\n",
       "    </tr>\n",
       "    <tr>\n",
       "      <th>5</th>\n",
       "      <td>b'The Vamps - Somebody To You ft. Demi Lovato ...</td>\n",
       "      <td>0.0</td>\n",
       "    </tr>\n",
       "    <tr>\n",
       "      <th>6</th>\n",
       "      <td>b'Got an iPhone X. This should\\xe2\\x80\\x99ve b...</td>\n",
       "      <td>0.0</td>\n",
       "    </tr>\n",
       "  </tbody>\n",
       "</table>\n",
       "</div>"
      ],
      "text/plain": [
       "                                                text  senti_val\n",
       "0  b'RT @KeepAustinEatin: Happy Friday people!! H...       10.0\n",
       "1  b'serious inquiries only https://t.co/W8SCHCiHKh'        0.0\n",
       "2  b'RT @PranavDixit: Remember how my iPhone got ...       -2.0\n",
       "3  b'RT @BillyBobSanderz: Let\\xe2\\x80\\x99s take a...       -1.0\n",
       "4  b'Turn it off before they track it \\xf0\\x9f\\x9...        0.0\n",
       "5  b'The Vamps - Somebody To You ft. Demi Lovato ...        0.0\n",
       "6  b'Got an iPhone X. This should\\xe2\\x80\\x99ve b...        0.0"
      ]
     },
     "execution_count": 16,
     "metadata": {},
     "output_type": "execute_result"
    }
   ],
   "source": [
    "top10_df_pd=df.toPandas()\n",
    "top10_df_pd.head(10)"
   ]
  },
  {
   "cell_type": "markdown",
   "metadata": {},
   "source": [
    "## Summary\n",
    "\n",
    "Hence we are able to do the following things -\n",
    "\n",
    "Find Influential people in twitter with interval of 10 seconds.\n",
    "\n",
    "Get trending Topics in twitter right now.\n",
    "\n",
    "Sentiment Analysis of tweets which has mention of “iphone”"
   ]
  },
  {
   "cell_type": "markdown",
   "metadata": {},
   "source": [
    "## The End"
   ]
  }
 ],
 "metadata": {
  "kernelspec": {
   "display_name": "Python 3",
   "language": "python",
   "name": "python3"
  },
  "language_info": {
   "codemirror_mode": {
    "name": "ipython",
    "version": 3
   },
   "file_extension": ".py",
   "mimetype": "text/x-python",
   "name": "python",
   "nbconvert_exporter": "python",
   "pygments_lexer": "ipython3",
   "version": "3.6.3"
  }
 },
 "nbformat": 4,
 "nbformat_minor": 2
}
